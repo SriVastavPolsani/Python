{
 "cells": [
  {
   "cell_type": "markdown",
   "metadata": {},
   "source": [
    "# String Compression"
   ]
  },
  {
   "cell_type": "code",
   "execution_count": 5,
   "metadata": {
    "collapsed": false
   },
   "outputs": [],
   "source": [
    "def str_compress(s):\n",
    "    \n",
    "    #length = len(s)\n",
    "    #i=0\n",
    "    seen={}\n",
    "    #count=0\n",
    "    \n",
    "    for char in s:\n",
    "        \n",
    "        if char in seen:\n",
    "            \n",
    "            seen[char]+=1\n",
    "            \n",
    "        else:\n",
    "            \n",
    "            seen[char] = 1\n",
    "            \n",
    "    return str(seen)\n",
    "            \n",
    "            \n",
    "    \n",
    "    \n",
    "            \n",
    "            \n",
    "            "
   ]
  },
  {
   "cell_type": "code",
   "execution_count": 6,
   "metadata": {
    "collapsed": false
   },
   "outputs": [
    {
     "data": {
      "text/plain": [
       "\"{'H': 3, 'B': 2}\""
      ]
     },
     "execution_count": 6,
     "metadata": {},
     "output_type": "execute_result"
    }
   ],
   "source": [
    "str_compress('HHHBB')"
   ]
  },
  {
   "cell_type": "code",
   "execution_count": 4,
   "metadata": {
    "collapsed": false
   },
   "outputs": [
    {
     "data": {
      "text/plain": [
       "2"
      ]
     },
     "execution_count": 4,
     "metadata": {},
     "output_type": "execute_result"
    }
   ],
   "source": [
    "1+1"
   ]
  },
  {
   "cell_type": "raw",
   "metadata": {},
   "source": [
    "print "
   ]
  },
  {
   "cell_type": "code",
   "execution_count": 5,
   "metadata": {
    "collapsed": false
   },
   "outputs": [
    {
     "name": "stdout",
     "output_type": "stream",
     "text": [
      "Hello\n"
     ]
    }
   ],
   "source": [
    "print 'Hello'"
   ]
  },
  {
   "cell_type": "code",
   "execution_count": null,
   "metadata": {
    "collapsed": false
   },
   "outputs": [],
   "source": [
    "def compress(s):\n",
    "    \n",
    "    length = len(s)\n",
    "    seen=[]\n",
    "    count = 0\n",
    "    \n",
    "    for char in s:\n",
    "        \n",
    "        if char in seen:\n",
    "            \n",
    "            count+=1\n",
    "            \n",
    "            if char == s[-1]:\n",
    "                seen.append(count)\n",
    "            \n",
    "        else:\n",
    "            if count != 0:\n",
    "                \n",
    "                seen.append(count)\n",
    "            seen.append(char)\n",
    "            count=1\n",
    "            \n",
    "    return ''.join(str(i) for i in seen )"
   ]
  },
  {
   "cell_type": "raw",
   "metadata": {
    "collapsed": true
   },
   "source": [
    "compress()"
   ]
  },
  {
   "cell_type": "code",
   "execution_count": null,
   "metadata": {
    "collapsed": false
   },
   "outputs": [],
   "source": [
    "compress('AAAAAaaaa')"
   ]
  },
  {
   "cell_type": "code",
   "execution_count": 7,
   "metadata": {
    "collapsed": false
   },
   "outputs": [],
   "source": [
    "def final_compress(s):\n",
    "    \n",
    "    length = len(s)\n",
    "    \n",
    "    \n",
    "    if length == 0:\n",
    "        return ''\n",
    "    \n",
    "    if length == 1:\n",
    "         return s+str(1)\n",
    "        \n",
    "    i = 1\n",
    "    r=''\n",
    "    count=1\n",
    "        \n",
    "    while(i < len(s)):\n",
    "        \n",
    "        if s[i] == s[i-1]:\n",
    "            count+=1\n",
    "            \n",
    "        else:\n",
    "            \n",
    "            r = r+s[i-1]+str(count)\n",
    "            count=1\n",
    "        i+=1\n",
    "        \n",
    "    r = r+s[i-1]+str(count)\n",
    "        \n",
    "    return r"
   ]
  },
  {
   "cell_type": "code",
   "execution_count": 8,
   "metadata": {
    "collapsed": false
   },
   "outputs": [
    {
     "data": {
      "text/plain": [
       "'A2B2C2'"
      ]
     },
     "execution_count": 8,
     "metadata": {},
     "output_type": "execute_result"
    }
   ],
   "source": [
    "final_compress('AABBCC')"
   ]
  },
  {
   "cell_type": "code",
   "execution_count": null,
   "metadata": {
    "collapsed": true
   },
   "outputs": [],
   "source": []
  }
 ],
 "metadata": {
  "kernelspec": {
   "display_name": "Python 2",
   "language": "python",
   "name": "python2"
  },
  "language_info": {
   "codemirror_mode": {
    "name": "ipython",
    "version": 2
   },
   "file_extension": ".py",
   "mimetype": "text/x-python",
   "name": "python",
   "nbconvert_exporter": "python",
   "pygments_lexer": "ipython2",
   "version": "2.7.13"
  }
 },
 "nbformat": 4,
 "nbformat_minor": 2
}
