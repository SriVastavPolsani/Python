{
 "cells": [
  {
   "cell_type": "markdown",
   "metadata": {},
   "source": [
    "# Array Pair sum"
   ]
  },
  {
   "cell_type": "code",
   "execution_count": 1,
   "metadata": {
    "collapsed": false
   },
   "outputs": [
    {
     "ename": "SyntaxError",
     "evalue": "invalid syntax (<ipython-input-1-0f4c0f6eb9d9>, line 7)",
     "output_type": "error",
     "traceback": [
      "\u001b[0;36m  File \u001b[0;32m\"<ipython-input-1-0f4c0f6eb9d9>\"\u001b[0;36m, line \u001b[0;32m7\u001b[0m\n\u001b[0;31m    for j=i+1 in arr:\u001b[0m\n\u001b[0m         ^\u001b[0m\n\u001b[0;31mSyntaxError\u001b[0m\u001b[0;31m:\u001b[0m invalid syntax\n"
     ]
    }
   ],
   "source": [
    "def pair_sum(arr,k):\n",
    "    \n",
    "    counter=0\n",
    "    result=[]\n",
    "    \n",
    "    for i in arr:\n",
    "        for j=i+1 in arr:\n",
    "            if(arr[i]+arr[j]==k):\n",
    "                counter++\n",
    "                result.append(arr[i],arr[k])\n",
    "                \n",
    "    return counter\n",
    "    return result\n",
    "                "
   ]
  },
  {
   "cell_type": "code",
   "execution_count": 20,
   "metadata": {
    "collapsed": false
   },
   "outputs": [],
   "source": [
    "def pair_sum(arr,k): #Function header\n",
    "    \n",
    "    if len(arr)<2: # Edge checking\n",
    "        return\n",
    "    \n",
    "    seen = set() #Create a set for seen elements\n",
    "    out = set() # create a set for output elements\n",
    "    \n",
    "    for num in arr: #Consider every element in the arr\n",
    "        \n",
    "        target = k-num # cal the target it needs to reach k\n",
    "        \n",
    "        if target not in seen: # If the target num is not in seen\n",
    "            \n",
    "            seen.add(num) #add the number to seen elements\n",
    "            \n",
    "        else: #if target is in seen\n",
    "            \n",
    "            out.add((min(num,target),max(num,target))) #add the num and target to output\n",
    "            \n",
    "    return len(out) # output is number of pairs in the arr\n",
    "    # Nice one-liner for printing output\n",
    "    #return '\\n'.join(map(str,list(out)))\n",
    "  \n",
    "            \n",
    "        "
   ]
  },
  {
   "cell_type": "code",
   "execution_count": null,
   "metadata": {
    "collapsed": false
   },
   "outputs": [],
   "source": [
    "\n"
   ]
  },
  {
   "cell_type": "code",
   "execution_count": 21,
   "metadata": {
    "collapsed": false
   },
   "outputs": [
    {
     "data": {
      "text/plain": [
       "2"
      ]
     },
     "execution_count": 21,
     "metadata": {},
     "output_type": "execute_result"
    }
   ],
   "source": [
    "pair_sum([1,3,2,2],4)"
   ]
  },
  {
   "cell_type": "code",
   "execution_count": null,
   "metadata": {
    "collapsed": true
   },
   "outputs": [],
   "source": []
  }
 ],
 "metadata": {
  "kernelspec": {
   "display_name": "Python 2",
   "language": "python",
   "name": "python2"
  },
  "language_info": {
   "codemirror_mode": {
    "name": "ipython",
    "version": 2
   },
   "file_extension": ".py",
   "mimetype": "text/x-python",
   "name": "python",
   "nbconvert_exporter": "python",
   "pygments_lexer": "ipython2",
   "version": "2.7.13"
  }
 },
 "nbformat": 4,
 "nbformat_minor": 2
}
