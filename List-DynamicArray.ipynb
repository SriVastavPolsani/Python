{
 "cells": [
  {
   "cell_type": "markdown",
   "metadata": {},
   "source": [
    "# Dynamic Array"
   ]
  },
  {
   "cell_type": "code",
   "execution_count": 10,
   "metadata": {
    "collapsed": false
   },
   "outputs": [
    {
     "name": "stdout",
     "output_type": "stream",
     "text": [
      "Length:   0; size in bytes:   64\n",
      "Length:   1; size in bytes:   96\n",
      "Length:   2; size in bytes:   96\n",
      "Length:   3; size in bytes:   96\n",
      "Length:   4; size in bytes:   96\n",
      "Length:   5; size in bytes:  128\n",
      "Length:   6; size in bytes:  128\n",
      "Length:   7; size in bytes:  128\n",
      "Length:   8; size in bytes:  128\n",
      "Length:   9; size in bytes:  192\n"
     ]
    }
   ],
   "source": [
    "import sys  # to use inbuilt get su=ize of method\n",
    "\n",
    "# set n value\n",
    "n=10\n",
    "\n",
    "#initialize the list with no elements\n",
    "data = []\n",
    "\n",
    "#loop to add elemets to data and print size and length\n",
    "for i in range(n):\n",
    "    \n",
    "    #return the length of array\n",
    "    a= len(data)\n",
    "    \n",
    "    #return size of array\n",
    "    b = sys.getsizeof(data)\n",
    "    \n",
    "    # print the length and size in a formatted way\n",
    "    print 'Length: {0:3d}; size in bytes: {1:4d}'.format(a,b)\n",
    "    \n",
    "    \n",
    "    #add elements to the array/list\n",
    "    data.append(n)"
   ]
  },
  {
   "cell_type": "code",
   "execution_count": null,
   "metadata": {
    "collapsed": true
   },
   "outputs": [],
   "source": []
  },
  {
   "cell_type": "code",
   "execution_count": null,
   "metadata": {
    "collapsed": true
   },
   "outputs": [],
   "source": []
  }
 ],
 "metadata": {
  "kernelspec": {
   "display_name": "Python 2",
   "language": "python",
   "name": "python2"
  },
  "language_info": {
   "codemirror_mode": {
    "name": "ipython",
    "version": 2
   },
   "file_extension": ".py",
   "mimetype": "text/x-python",
   "name": "python",
   "nbconvert_exporter": "python",
   "pygments_lexer": "ipython2",
   "version": "2.7.13"
  }
 },
 "nbformat": 4,
 "nbformat_minor": 2
}
