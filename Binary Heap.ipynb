{
 "cells": [
  {
   "cell_type": "markdown",
   "metadata": {},
   "source": [
    "# Binary Heap"
   ]
  },
  {
   "cell_type": "code",
   "execution_count": 1,
   "metadata": {
    "collapsed": true
   },
   "outputs": [],
   "source": [
    "class BinHeap:\n",
    "    def __init__(self):\n",
    "        self.heaplist =[0]\n",
    "        self.currentSize = 0\n",
    "        \n",
    "    def percup(self,i):\n",
    "        while i//2>0:\n",
    "            if self.heaplist[i]<self.heaplist[i//2]:\n",
    "                \n",
    "                temp = self.heaplist[i//2]\n",
    "                self.heaplist[i//2] = self.heaplist[i]\n",
    "                self.heaplist[i]=temp\n",
    "                \n",
    "            i = i//2\n",
    "            \n",
    "    def insert(self,k):\n",
    "        \n",
    "        self.heaplist.append(k)\n",
    "        self.heaplist.currentSize = self.heaplist.currentsize + 1\n",
    "        self.percup(self.currentsize)\n",
    "        \n",
    "    def minchild(self,i):\n",
    "        if i*2 + 1 > self.currentSize:\n",
    "            return i*2\n",
    "        \n",
    "        else:\n",
    "            if self.heaplist[i*2]>self.heaplist[i*2+1]:\n",
    "                return i*2+1\n",
    "            else:\n",
    "                return i*2\n",
    "            \n",
    "    def percdown(self,i):\n",
    "        \n",
    "        while 2*i+1 < self.currentSize:\n",
    "            mc = self.minchild[i]\n",
    "            \n",
    "            if self.heaplist[i]>self.heaplist[mc]:\n",
    "                \n",
    "                temp = self.heaplist[i]\n",
    "                self.heaplist[i] = self.heaplist[mc]\n",
    "                self.heaplist[mc] = temp\n",
    "                \n",
    "            i = mc\n",
    "            \n",
    "    def delmin(self):\n",
    "        \n",
    "        retval = self.heaplist[1]\n",
    "        self.heaplist[1] = self.heaplist[self.currentsize]\n",
    "        self.currentsize = self.currentsize-1\n",
    "        self.heaplist.pop()\n",
    "        self.percdown(1)\n",
    "        return retval\n",
    "    \n",
    "    def buildheap(self,alist):\n",
    "        i = len(alist)//2\n",
    "        self.currentsize = len(alist)\n",
    "        self.heaplist = [0] + alist[:]\n",
    "        while(i>0):\n",
    "            self.percdown(i)\n",
    "            i =i-1\n",
    "        \n",
    "        \n",
    "        \n",
    "        \n",
    "        \n",
    "        \n",
    "    "
   ]
  },
  {
   "cell_type": "code",
   "execution_count": null,
   "metadata": {
    "collapsed": true
   },
   "outputs": [],
   "source": []
  }
 ],
 "metadata": {
  "kernelspec": {
   "display_name": "Python 2",
   "language": "python",
   "name": "python2"
  },
  "language_info": {
   "codemirror_mode": {
    "name": "ipython",
    "version": 2
   },
   "file_extension": ".py",
   "mimetype": "text/x-python",
   "name": "python",
   "nbconvert_exporter": "python",
   "pygments_lexer": "ipython2",
   "version": "2.7.13"
  }
 },
 "nbformat": 4,
 "nbformat_minor": 2
}
