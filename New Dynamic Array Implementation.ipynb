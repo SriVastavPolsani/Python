{
 "cells": [
  {
   "cell_type": "markdown",
   "metadata": {},
   "source": [
    "# New Dynamic Array Implementation"
   ]
  },
  {
   "cell_type": "code",
   "execution_count": 13,
   "metadata": {
    "collapsed": false
   },
   "outputs": [],
   "source": [
    "import ctypes\n",
    "\n",
    "class dynamicArray(object):  #Dynamic Array Class, similar to Python List\n",
    "    \n",
    "    def __init__(self):  #Initializing the Array\n",
    "        \n",
    "        self.n = 0 #Count actual elements(default is 0)\n",
    "        self.capacity=1 #defualt capacity\n",
    "        self.A=self.make_array(self.capacity) #create a default array\n",
    "        \n",
    "\n",
    "    def __len__(self):\n",
    "        \n",
    "        return self.n #return the number of elements in the array\n",
    "    \n",
    "    def __getitem__(self,k):\n",
    "        \n",
    "        if not 0<=k<self.n:\n",
    "            \n",
    "            return IndexError('K is out of bounds') #Check if K is in the bounds of the arr\n",
    "        \n",
    "        return self.A[k] #retrieve the array at index K \n",
    "    \n",
    "    \n",
    "    def append(self,ele): #adding an element to the array\n",
    "        \n",
    "        if self.n == self.capacity: #verify if the array is full\n",
    "            self.resize(2*self.capacity) #CAll method to increase size of array\n",
    "            \n",
    "            self.A[self.n]=ele #put element in the array\n",
    "            self.n +=1 #increase size of array by 1\n",
    "            \n",
    "            \n",
    "    def __resize__(self,new_cap): # method to resize the array\n",
    "        \n",
    "        B = self.make_array(new_cap) #Create a replica array B\n",
    "        \n",
    "        for k in range(self.n):\n",
    "        \n",
    "            B[k] = self.A[k] #reference elements of b to elements of A\n",
    "        \n",
    "        self.A = B #Make B the new A arr\n",
    "        self.capacity = new_cap # set capacity to increased capacity\n",
    "        \n",
    "        \n",
    "    def make_array(self,new_cap): #method to create an array\n",
    "        \n",
    "        return (new_cap*ctypes.py_object)()\n",
    "    \n",
    "    "
   ]
  },
  {
   "cell_type": "code",
   "execution_count": 14,
   "metadata": {
    "collapsed": true
   },
   "outputs": [],
   "source": [
    "arr.append(1)"
   ]
  },
  {
   "cell_type": "raw",
   "metadata": {},
   "source": [
    "len(arr)"
   ]
  },
  {
   "cell_type": "code",
   "execution_count": 15,
   "metadata": {
    "collapsed": false
   },
   "outputs": [
    {
     "data": {
      "text/plain": [
       "0"
      ]
     },
     "execution_count": 15,
     "metadata": {},
     "output_type": "execute_result"
    }
   ],
   "source": [
    "len(arr)"
   ]
  },
  {
   "cell_type": "raw",
   "metadata": {},
   "source": []
  },
  {
   "cell_type": "code",
   "execution_count": 7,
   "metadata": {
    "collapsed": false
   },
   "outputs": [
    {
     "data": {
      "text/plain": [
       "0"
      ]
     },
     "execution_count": 7,
     "metadata": {},
     "output_type": "execute_result"
    }
   ],
   "source": []
  },
  {
   "cell_type": "code",
   "execution_count": 8,
   "metadata": {
    "collapsed": false
   },
   "outputs": [],
   "source": []
  },
  {
   "cell_type": "code",
   "execution_count": 9,
   "metadata": {
    "collapsed": false
   },
   "outputs": [
    {
     "data": {
      "text/plain": [
       "0"
      ]
     },
     "execution_count": 9,
     "metadata": {},
     "output_type": "execute_result"
    }
   ],
   "source": []
  },
  {
   "cell_type": "code",
   "execution_count": 16,
   "metadata": {
    "collapsed": false
   },
   "outputs": [
    {
     "data": {
      "text/plain": [
       "IndexError('K is out of bounds')"
      ]
     },
     "execution_count": 16,
     "metadata": {},
     "output_type": "execute_result"
    }
   ],
   "source": [
    "arr[0]"
   ]
  },
  {
   "cell_type": "code",
   "execution_count": null,
   "metadata": {
    "collapsed": true
   },
   "outputs": [],
   "source": []
  }
 ],
 "metadata": {
  "kernelspec": {
   "display_name": "Python 2",
   "language": "python",
   "name": "python2"
  },
  "language_info": {
   "codemirror_mode": {
    "name": "ipython",
    "version": 2
   },
   "file_extension": ".py",
   "mimetype": "text/x-python",
   "name": "python",
   "nbconvert_exporter": "python",
   "pygments_lexer": "ipython2",
   "version": "2.7.13"
  }
 },
 "nbformat": 4,
 "nbformat_minor": 2
}
