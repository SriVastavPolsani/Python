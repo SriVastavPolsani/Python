{
 "cells": [
  {
   "cell_type": "markdown",
   "metadata": {},
   "source": [
    "# Binary Search Tree Check"
   ]
  },
  {
   "cell_type": "code",
   "execution_count": null,
   "metadata": {
    "collapsed": true
   },
   "outputs": [],
   "source": [
    "tree_vals=[]"
   ]
  },
  {
   "cell_type": "code",
   "execution_count": null,
   "metadata": {
    "collapsed": true
   },
   "outputs": [],
   "source": [
    "def inorder(tree):\n",
    "    if tree!=None:\n",
    "        inorder(tree.getLeftChild())\n",
    "        tree_vals.append(tree.getRootValue)\n",
    "        inorder(tree.getRightChild())\n",
    "        \n",
    "        "
   ]
  },
  {
   "cell_type": "code",
   "execution_count": null,
   "metadata": {
    "collapsed": true
   },
   "outputs": [],
   "source": [
    "def sort_check(tree_vals):\n",
    "    return tree_vals==sorted(tree_vals)"
   ]
  },
  {
   "cell_type": "raw",
   "metadata": {},
   "source": [
    "inorder(tree)\n",
    "sort_check(tree_vals)"
   ]
  },
  {
   "cell_type": "code",
   "execution_count": 2,
   "metadata": {
    "collapsed": false
   },
   "outputs": [
    {
     "name": "stdout",
     "output_type": "stream",
     "text": [
      "False\n",
      "False\n"
     ]
    }
   ],
   "source": [
    "class Node:\n",
    "    def __init__(self,k,val):\n",
    "        self.key=k\n",
    "        self.value=val\n",
    "        self.left=None\n",
    "        self.right=None\n",
    "        \n",
    "def tree_max(node):\n",
    "    if not node:\n",
    "        return float(\"-inf\")\n",
    "    \n",
    "    max_left=tree_max(node.left)\n",
    "    max_right=tree_max(node.right)\n",
    "    \n",
    "    return max(node.key,max_left,max_right)\n",
    "\n",
    "def tree_min(node):\n",
    "    if not node:\n",
    "        return float(\"-inf\")\n",
    "        \n",
    "    min_left=tree_min(node.left)\n",
    "    min_right=tree_min(node.right)\n",
    "    return min(node.key,min_left,min_right)\n",
    "\n",
    "def verify(node):\n",
    "    if not node:\n",
    "        return True\n",
    "    if(tree_max(node.left)<=node.key<=tree_min(node.right) \n",
    "       and verify(node.left) and verify(node.right)):\n",
    "        return True\n",
    "    else:\n",
    "        return False\n",
    "    \n",
    "root= Node(10, \"Hello\")\n",
    "root.left = Node(5, \"Five\")\n",
    "root.right= Node(30, \"Thirty\")\n",
    "\n",
    "print(verify(root)) # prints True, since this tree is valid\n",
    "    \n",
    "root = Node(10,\"ten\")\n",
    "root.left = Node(5,\"five\")\n",
    "root.right = Node(20,\"twenty\")\n",
    "root.left.right = Node(15,\"eight\")\n",
    "\n",
    "print(verify(root))"
   ]
  },
  {
   "cell_type": "code",
   "execution_count": 6,
   "metadata": {
    "collapsed": false
   },
   "outputs": [
    {
     "name": "stdout",
     "output_type": "stream",
     "text": [
      "False\n",
      "False\n"
     ]
    }
   ],
   "source": [
    "class Node:\n",
    "    def __init__(self,k,val):\n",
    "        self.key=k\n",
    "        self.value=val\n",
    "        self.left=None\n",
    "        self.right=None\n",
    "\n",
    "def tree_max(Node):\n",
    "    if not Node:\n",
    "        return float(\"-inf\")\n",
    "    \n",
    "    max_left=tree_max(Node.left)\n",
    "    max_right=tree_max(Node.right)\n",
    "    \n",
    "    return max(Node.key,max_left,max_right)\n",
    "\n",
    "def tree_min(Node):\n",
    "    if not Node:\n",
    "        return float(\"-inf\")\n",
    "    \n",
    "    min_left=tree_min(Node.left)\n",
    "    min_right=tree_min(Node.right)\n",
    "    \n",
    "    return min(Node.key,min_left,min_right)\n",
    "\n",
    "def verify(Node):\n",
    "    if not Node:\n",
    "        return True\n",
    "    if(tree_max(Node.left) <= Node.key <= tree_min(Node.right)\n",
    "      and verify(Node.left) and verify(Node.right)):\n",
    "        return True\n",
    "    else:\n",
    "        return False\n",
    "    \n",
    "root = Node(10,\"Hello\")\n",
    "root.left = Node(5,\"five\")\n",
    "root.right = Node(30,\"Thirty\")\n",
    "\n",
    "print (verify(root))\n",
    "        \n",
    "root = Node(10, \"Ten\")\n",
    "root.right = Node(20, \"Twenty\")\n",
    "root.left = Node(5, \"Five\")\n",
    "root.left.right = Node(15, \"Fifteen\")\n",
    "\n",
    "print(verify(root)) # prints False, since 15 is to the left of 10\n",
    "    "
   ]
  },
  {
   "cell_type": "code",
   "execution_count": null,
   "metadata": {
    "collapsed": true
   },
   "outputs": [],
   "source": []
  }
 ],
 "metadata": {
  "kernelspec": {
   "display_name": "Python 2",
   "language": "python",
   "name": "python2"
  },
  "language_info": {
   "codemirror_mode": {
    "name": "ipython",
    "version": 2
   },
   "file_extension": ".py",
   "mimetype": "text/x-python",
   "name": "python",
   "nbconvert_exporter": "python",
   "pygments_lexer": "ipython2",
   "version": "2.7.13"
  }
 },
 "nbformat": 4,
 "nbformat_minor": 2
}
